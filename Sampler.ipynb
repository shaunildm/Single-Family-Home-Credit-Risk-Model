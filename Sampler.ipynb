{
 "cells": [
  {
   "cell_type": "markdown",
   "metadata": {},
   "source": [
    "Quickly extract sample loans and first 12 payments performance data"
   ]
  },
  {
   "cell_type": "code",
   "execution_count": null,
   "metadata": {},
   "outputs": [],
   "source": [
    "import pandas as pd\n",
    "import numpy as np\n",
    "import glob\n",
    "import os\n",
    "\n",
    "%matplotlib inline\n",
    "import matplotlib as mpl\n",
    "import matplotlib.pyplot as plt\n",
    "import seaborn as sns\n",
    "mpl.rc('axes', labelsize=18)\n",
    "mpl.rc('xtick', labelsize=15)\n",
    "mpl.rc('ytick', labelsize=15)\n",
    "mpl.rc('legend',**{'fontsize':16.5})\n",
    "mpl.rc('lines', linewidth=2)\n",
    "\n",
    "\n",
    "from sklearn.compose import make_column_transformer\n",
    "from sklearn.pipeline import make_pipeline\n",
    "from sklearn.preprocessing import OneHotEncoder\n",
    "from sklearn.preprocessing import LabelEncoder\n",
    "from sklearn.preprocessing import StandardScaler\n",
    "from sklearn.model_selection import train_test_split\n",
    "from sklearn.model_selection import cross_val_score\n",
    "from sklearn.linear_model import LogisticRegression\n",
    "from sklearn.ensemble import RandomForestClassifier\n",
    "from sklearn.ensemble import GradientBoostingClassifier\n",
    "from sklearn.ensemble import AdaBoostClassifier\n",
    "from sklearn.naive_bayes import BernoulliNB\n",
    "from sklearn.metrics import roc_auc_score\n",
    "from sklearn.metrics import roc_curve\n",
    "\n",
    "\n",
    "def save_fig(fig_id, tight_layout=True):\n",
    "    path = os.path.join(fig_id + \".png\") \n",
    "    print(\"Saving figure\", fig_id)\n",
    "    if tight_layout:\n",
    "        plt.tight_layout()\n",
    "    plt.savefig(path, format='png', dpi=300)\n",
    "\n",
    "pd.set_option('display.max_columns', 50)\n",
    "pd.set_option('display.max_rows', 50)   "
   ]
  },
  {
   "cell_type": "code",
   "execution_count": null,
   "metadata": {},
   "outputs": [],
   "source": [
    "orig_headers = [\n",
    "    'CREDIT SCORE', 'FIRST PAYMENT DATE', 'FIRST TIME HOMEBUYER FLAG', 'MATURITY DATE',\n",
    "    'MSA', 'MI %', 'NUMBER OF UNITS', 'OCCUPANCY STATUS', 'ORIGINAL CLTV',\n",
    "    'ORIGINAL DTI', 'ORIGINAL UPB', 'ORIGINAL LTV', 'ORIGINAL INTEREST RATE',\n",
    "    'CHANNEL', 'PPM FLAG', 'PRODUCT TYPE', 'PROPERTY STATE', 'PROPERTY TYPE', \n",
    "    'POSTAL CODE', 'LOAN SEQUENCE NUMBER', 'LOAN PURPOSE', 'ORIGINAL LOAN TERM',\n",
    "    'NUMBER OF BORROWERS', 'SELLER NAME', 'SERVICER NAME', 'UNKNOWN'\n",
    "]\n",
    "\n",
    "mp_headers = [\n",
    "    'LOAN SEQUENCE NUMBER', 'MONTHLY REPORTING PERIOD', 'CURRENT ACTUAL UPB',\n",
    "    'CURRENT LOAN DELINQUENCY STATUS', 'LOAN AGE', 'REMAINING MONTHS TO LEGAL MATURITY',\n",
    "    'REPURCHASE FLAG', 'MODIFICATION FLAG', 'ZERO BALANCE CODE',\n",
    "    'ZERO BALANCE EFFECTIVE DATE', 'CURRENT INTEREST RATE', 'CURRENT DEFERRED UPB', \n",
    "    'DDLPI', 'MI RECOVERIES', 'NET SALES PROCEEDS', 'NON MI RECOVERIES', 'EXPENSES', \n",
    "    'LEGAL COSTS', 'MAINTENANCE AND PRESERVATION COSTS', 'TAXES AND INSURANCE', \n",
    "    'MISCELLANEOUS EXPENSES', 'ACTUAL LOSS CALCULATION', 'MODIFICATION COST',\n",
    "    'STEP MODIFICATION FLAG', 'DEFERRED PAYMENT MODIFICATION', 'ELTV', 'ZERO BALANCE REMOVAL UPB',\n",
    "    'DELINQUENT ACCRUED INTEREST'\n",
    "]\n"
   ]
  },
  {
   "cell_type": "code",
   "execution_count": null,
   "metadata": {},
   "outputs": [],
   "source": [
    "orig = pd.read_csv('data/train/orig_train.txt', delimiter='|', names=orig_headers, low_memory=False)\n",
    "\n",
    "\n",
    "cols = [\n",
    "    'CREDIT SCORE', 'FIRST TIME HOMEBUYER FLAG',\n",
    "    'MI %', 'NUMBER OF UNITS', 'OCCUPANCY STATUS', 'ORIGINAL CLTV',\n",
    "    'ORIGINAL DTI', 'ORIGINAL UPB', 'ORIGINAL INTEREST RATE',\n",
    "    'CHANNEL', 'PPM FLAG', 'PROPERTY STATE', 'PROPERTY TYPE', \n",
    "    'LOAN SEQUENCE NUMBER', 'LOAN PURPOSE', 'ORIGINAL LOAN TERM',\n",
    "    'NUMBER OF BORROWERS'\n",
    "]\n",
    "\n",
    "orig = orig[cols]\n",
    "\n",
    "cols_p = ['LOAN SEQUENCE NUMBER', 'LOAN AGE', 'ZERO BALANCE CODE']"
   ]
  },
  {
   "cell_type": "code",
   "execution_count": null,
   "metadata": {},
   "outputs": [],
   "source": [
    "mp_data = pd.read_csv('data/labelled_samp.csv', low_memory=False)\n",
    "mp_data.head()"
   ]
  },
  {
   "cell_type": "code",
   "execution_count": null,
   "metadata": {},
   "outputs": [],
   "source": [
    "data = mp_data.set_index('LOAN SEQUENCE NUMBER').join(orig.set_index('LOAN SEQUENCE NUMBER'))\n",
    "data.dropna(inplace=True)\n",
    "data = data[(data['CREDIT SCORE'] >= 301) & (data['CREDIT SCORE'] <= 850)]\n",
    "data = data[(data['ORIGINAL CLTV'] >= 0) & (data['ORIGINAL CLTV'] <= 200)]\n",
    "data = data[(data['ORIGINAL DTI'] >= 0) & (data['ORIGINAL DTI'] <= 65)]\n",
    "data['MI %'].replace(999, 0, inplace=True)\n",
    "data['ZERO BALANCE CODE'].replace({1: 0, 9: 1, 6: 1, 3: 1, 2: 1, 15: 1}, inplace=True)"
   ]
  },
  {
   "cell_type": "code",
   "execution_count": null,
   "metadata": {},
   "outputs": [],
   "source": [
    "def mp_concatter(indir, outdir):\n",
    "    filelist = glob.glob(indir)\n",
    "    dflist = []\n",
    "    for file in filelist:\n",
    "        print(file)\n",
    "        data = pd.read_csv(file, delimiter='|', names=mp_headers, low_memory=False)\n",
    "        data = data[cols_p]\n",
    "        data.dropna(inplace=True)\n",
    "        dflist.append(data)\n",
    "    concatdf = pd.concat(dflist, axis=0)\n",
    "    concatdf.to_csv(outdir, index=False)\n",
    "    \n",
    "    \n",
    "# mp_concatter('data/mp/*.txt', 'data/labels.csv')\n",
    "# mp_concatter('data/test/mp_test/*.txt', 'data/test/mp_test.csv')\n"
   ]
  },
  {
   "cell_type": "code",
   "execution_count": null,
   "metadata": {},
   "outputs": [],
   "source": [
    "def orig_concatter(path):\n",
    "    files = glob.glob(path)\n",
    "\n",
    "    with open('orig.txt','w') as result:\n",
    "        for file_ in files:\n",
    "            for line in open(file_, 'r'):\n",
    "                result.write(line)\n",
    "                \n",
    "# orig_concatter('data/orig/*.txt')\n",
    "# orig_concatter('data/test/orig_test/*.txt')"
   ]
  },
  {
   "cell_type": "code",
   "execution_count": null,
   "metadata": {},
   "outputs": [],
   "source": [
    "X = data.drop('ZERO BALANCE CODE', axis=1)\n",
    "y = data['ZERO BALANCE CODE']"
   ]
  },
  {
   "cell_type": "code",
   "execution_count": null,
   "metadata": {},
   "outputs": [],
   "source": [
    "one_hot_cols = [\n",
    "    'FIRST TIME HOMEBUYER FLAG', 'OCCUPANCY STATUS', 'CHANNEL', \n",
    "    'PPM FLAG', 'PROPERTY STATE', 'PROPERTY TYPE', 'LOAN PURPOSE',\n",
    "]\n",
    "\n",
    "\n",
    "\n",
    "column_trans = make_column_transformer(\n",
    "    (OneHotEncoder(), one_hot_cols),\n",
    "    remainder='passthrough')"
   ]
  },
  {
   "cell_type": "code",
   "execution_count": null,
   "metadata": {},
   "outputs": [],
   "source": [
    "column_trans.fit_transform(X)"
   ]
  },
  {
   "cell_type": "code",
   "execution_count": null,
   "metadata": {},
   "outputs": [],
   "source": [
    "pipe_lr = make_pipeline(column_trans, LogisticRegression(class_weight='balanced', random_state=99))\n",
    "                        \n",
    "cross_val_score(pipe_lr, X, y, cv=5, scoring='roc_auc', n_jobs=-1)"
   ]
  }
 ],
 "metadata": {
  "kernelspec": {
   "display_name": "Python 3",
   "language": "python",
   "name": "python3"
  },
  "language_info": {
   "codemirror_mode": {
    "name": "ipython",
    "version": 3
   },
   "file_extension": ".py",
   "mimetype": "text/x-python",
   "name": "python",
   "nbconvert_exporter": "python",
   "pygments_lexer": "ipython3",
   "version": "3.7.4"
  }
 },
 "nbformat": 4,
 "nbformat_minor": 4
}
